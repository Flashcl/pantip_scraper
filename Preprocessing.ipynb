{
  "nbformat": 4,
  "nbformat_minor": 0,
  "metadata": {
    "colab": {
      "name": "Preprocessing.ipynb",
      "provenance": [],
      "include_colab_link": true
    },
    "kernelspec": {
      "name": "python3",
      "display_name": "Python 3"
    }
  },
  "cells": [
    {
      "cell_type": "markdown",
      "metadata": {
        "id": "view-in-github",
        "colab_type": "text"
      },
      "source": [
        "<a href=\"https://colab.research.google.com/github/Flashcl/pantip_scraper/blob/master/Preprocessing.ipynb\" target=\"_parent\"><img src=\"https://colab.research.google.com/assets/colab-badge.svg\" alt=\"Open In Colab\"/></a>"
      ]
    },
    {
      "cell_type": "code",
      "metadata": {
        "id": "-C7W-8CldZuV",
        "colab_type": "code",
        "colab": {
          "base_uri": "https://localhost:8080/",
          "height": 462
        },
        "outputId": "9591e2aa-87dd-44bd-d459-10a505f7d680"
      },
      "source": [
        "!pip install pythainlp"
      ],
      "execution_count": 33,
      "outputs": [
        {
          "output_type": "stream",
          "text": [
            "Collecting pythainlp\n",
            "\u001b[?25l  Downloading https://files.pythonhosted.org/packages/37/94/1ca5c23bfdbc0f27fa26e5eeda47d8ff422cbbd3f38c0b8a160fa17a2583/pythainlp-2.0.7-py3-none-any.whl (11.0MB)\n",
            "\u001b[K     |████████████████████████████████| 11.0MB 211kB/s \n",
            "\u001b[?25hCollecting tinydb\n",
            "  Downloading https://files.pythonhosted.org/packages/9b/83/2d46115b89640e9b85b94df47216547396e94125245dd3ade186036ce976/tinydb-3.15.1-py2.py3-none-any.whl\n",
            "Requirement already satisfied: requests in /usr/local/lib/python3.6/dist-packages (from pythainlp) (2.21.0)\n",
            "Requirement already satisfied: tqdm in /usr/local/lib/python3.6/dist-packages (from pythainlp) (4.28.1)\n",
            "Requirement already satisfied: dill in /usr/local/lib/python3.6/dist-packages (from pythainlp) (0.3.1.1)\n",
            "Requirement already satisfied: pytz in /usr/local/lib/python3.6/dist-packages (from pythainlp) (2018.9)\n",
            "Collecting marisa-trie\n",
            "\u001b[?25l  Downloading https://files.pythonhosted.org/packages/20/95/d23071d0992dabcb61c948fb118a90683193befc88c23e745b050a29e7db/marisa-trie-0.7.5.tar.gz (270kB)\n",
            "\u001b[K     |████████████████████████████████| 276kB 45.9MB/s \n",
            "\u001b[?25hRequirement already satisfied: nltk>=3.2.2 in /usr/local/lib/python3.6/dist-packages (from pythainlp) (3.2.5)\n",
            "Requirement already satisfied: urllib3<1.25,>=1.21.1 in /usr/local/lib/python3.6/dist-packages (from requests->pythainlp) (1.24.3)\n",
            "Requirement already satisfied: certifi>=2017.4.17 in /usr/local/lib/python3.6/dist-packages (from requests->pythainlp) (2019.9.11)\n",
            "Requirement already satisfied: idna<2.9,>=2.5 in /usr/local/lib/python3.6/dist-packages (from requests->pythainlp) (2.8)\n",
            "Requirement already satisfied: chardet<3.1.0,>=3.0.2 in /usr/local/lib/python3.6/dist-packages (from requests->pythainlp) (3.0.4)\n",
            "Requirement already satisfied: six in /usr/local/lib/python3.6/dist-packages (from nltk>=3.2.2->pythainlp) (1.12.0)\n",
            "Building wheels for collected packages: marisa-trie\n",
            "  Building wheel for marisa-trie (setup.py) ... \u001b[?25l\u001b[?25hdone\n",
            "  Created wheel for marisa-trie: filename=marisa_trie-0.7.5-cp36-cp36m-linux_x86_64.whl size=861347 sha256=506b36cdebce52cd1578c311004d9d40bb286c99914d160adf7f2977387a2ccb\n",
            "  Stored in directory: /root/.cache/pip/wheels/45/24/79/022624fc914f0e559fe8a1141aaff1f9df810905a13fc75d57\n",
            "Successfully built marisa-trie\n",
            "Installing collected packages: tinydb, marisa-trie, pythainlp\n",
            "Successfully installed marisa-trie-0.7.5 pythainlp-2.0.7 tinydb-3.15.1\n"
          ],
          "name": "stdout"
        }
      ]
    },
    {
      "cell_type": "code",
      "metadata": {
        "id": "brN6UGORYxu7",
        "colab_type": "code",
        "colab": {}
      },
      "source": [
        "import re\n",
        "from pythainlp.tokenize import word_tokenize\n",
        "from pythainlp.corpus.common import thai_words"
      ],
      "execution_count": 0,
      "outputs": []
    },
    {
      "cell_type": "code",
      "metadata": {
        "id": "HUxF54mscTPf",
        "colab_type": "code",
        "colab": {}
      },
      "source": [
        "def cleanhtml(raw_html):\n",
        "  cleanr = re.compile('<.*?>|&([a-z0-9]+|#[0-9]{1,6}|#x[0-9a-f]{1,6});')\n",
        "  cleantext = re.sub(cleanr, '', raw_html)\n",
        "  return cleantext\n",
        "\n",
        "rex = re.compile(r'<div class=\"display-post-story\">(.*?)</div>', re.DOTALL)\n",
        "\n",
        "def cleanAll(raw_html):\n",
        "  match = [cleanhtml(i.strip())\n",
        "            .replace(\"\\t\\t\",\"\\t\").replace(\"\\t\",\" \")\n",
        "            .replace(\"\\n\\n\",\"\\n\").replace(\"\\n\",\" \") \n",
        "            for i in rex.findall(data)]\n",
        "  return match\n",
        "\n",
        "def cleanWord(t):\n",
        "  c_t = list()\n",
        "  for word in t:\n",
        "    if word.strip():\n",
        "      c_t.append((word,word in thai_words())) \n",
        "  return c_t"
      ],
      "execution_count": 0,
      "outputs": []
    },
    {
      "cell_type": "code",
      "metadata": {
        "id": "iUwJ57VbWzFD",
        "colab_type": "code",
        "colab": {}
      },
      "source": [
        "data=open(\"/content/กรุ๊ปเลือด พ่อ B + แม่ B แต่ลูกเราออกมาเป็น AB. - Pantip.htm\", \"r\").read()\n",
        "test = '<div class=\"display-post-story\">asdfghjkjhgfdsa</div>'"
      ],
      "execution_count": 0,
      "outputs": []
    },
    {
      "cell_type": "code",
      "metadata": {
        "id": "VWRPcFNQZtp4",
        "colab_type": "code",
        "colab": {}
      },
      "source": [
        "t_list = []\n",
        "for text in match:\n",
        "  t = cleanWord(word_tokenize(text))\n",
        "\n",
        "  t_list.append(t)"
      ],
      "execution_count": 0,
      "outputs": []
    },
    {
      "cell_type": "code",
      "metadata": {
        "id": "n6ZMCUA5Zux-",
        "colab_type": "code",
        "colab": {
          "base_uri": "https://localhost:8080/",
          "height": 187
        },
        "outputId": "aeeeb4a5-cb5c-4aac-cebd-5003a10231a3"
      },
      "source": [
        "t_list[1]"
      ],
      "execution_count": 43,
      "outputs": [
        {
          "output_type": "execute_result",
          "data": {
            "text/plain": [
              "[('พ่อ', True),\n",
              " ('แม่', True),\n",
              " ('B', False),\n",
              " ('ทั้งคู่', True),\n",
              " ('ลูก', True),\n",
              " ('ต้อง', True),\n",
              " ('B', False),\n",
              " ('กับ', True),\n",
              " ('O', False),\n",
              " ('เท่านั้น', True)]"
            ]
          },
          "metadata": {
            "tags": []
          },
          "execution_count": 43
        }
      ]
    },
    {
      "cell_type": "code",
      "metadata": {
        "id": "pmDYgAUabUnl",
        "colab_type": "code",
        "colab": {}
      },
      "source": [
        ""
      ],
      "execution_count": 0,
      "outputs": []
    }
  ]
}